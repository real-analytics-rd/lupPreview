{
 "cells": [
  {
   "cell_type": "code",
   "execution_count": null,
   "metadata": {},
   "outputs": [],
   "source": [
    "#hide\n",
    "from guardian_scraper.scraper import *\n",
    "import pandas as pd"
   ]
  },
  {
   "cell_type": "markdown",
   "metadata": {},
   "source": [
    "# Scraping The Guardian\n",
    "\n",
    "> scraping Premier League previews from the Guardian."
   ]
  },
  {
   "cell_type": "markdown",
   "metadata": {},
   "source": [
    "."
   ]
  },
  {
   "cell_type": "markdown",
   "metadata": {},
   "source": [
    "## Install"
   ]
  },
  {
   "cell_type": "markdown",
   "metadata": {},
   "source": [
    "`pip install guardian_scraper`"
   ]
  },
  {
   "cell_type": "markdown",
   "metadata": {},
   "source": [
    "## How to use"
   ]
  },
  {
   "cell_type": "markdown",
   "metadata": {},
   "source": [
    "Use case"
   ]
  },
  {
   "cell_type": "code",
   "execution_count": null,
   "metadata": {},
   "outputs": [],
   "source": [
    "#hide\n",
    "url = \"https://www.theguardian.com/football/series/match-previews\"\n",
    "scraper = ScrapingTheGuardian()\n",
    "previews_infos=[]\n",
    "page = Parser.parse_page(url,scraper.session)\n",
    "previews_infos = scraper.extract_previews(page)"
   ]
  },
  {
   "cell_type": "code",
   "execution_count": null,
   "metadata": {},
   "outputs": [],
   "source": [
    "#hide\n",
    "data = pd.DataFrame(previews_infos)"
   ]
  },
  {
   "cell_type": "code",
   "execution_count": null,
   "metadata": {},
   "outputs": [
    {
     "data": {
      "text/html": [
       "<div>\n",
       "<style scoped>\n",
       "    .dataframe tbody tr th:only-of-type {\n",
       "        vertical-align: middle;\n",
       "    }\n",
       "\n",
       "    .dataframe tbody tr th {\n",
       "        vertical-align: top;\n",
       "    }\n",
       "\n",
       "    .dataframe thead th {\n",
       "        text-align: right;\n",
       "    }\n",
       "</style>\n",
       "<table border=\"1\" class=\"dataframe\">\n",
       "  <thead>\n",
       "    <tr style=\"text-align: right;\">\n",
       "      <th></th>\n",
       "      <th>home_team</th>\n",
       "      <th>away_team</th>\n",
       "      <th>text</th>\n",
       "      <th>author</th>\n",
       "      <th>venue</th>\n",
       "      <th>referee</th>\n",
       "      <th>odds</th>\n",
       "      <th>odds_home_team</th>\n",
       "      <th>odds_away_team</th>\n",
       "      <th>odds_draw</th>\n",
       "      <th>preview_date</th>\n",
       "    </tr>\n",
       "  </thead>\n",
       "  <tbody>\n",
       "    <tr>\n",
       "      <th>0</th>\n",
       "      <td>Arsenal</td>\n",
       "      <td>Burnley</td>\n",
       "      <td>Arsenal have no excuses if their dismal form i...</td>\n",
       "      <td>Graham Searles</td>\n",
       "      <td>Emirates Stadium</td>\n",
       "      <td>David Coote</td>\n",
       "      <td>[2-5, 9-1, 4-1]</td>\n",
       "      <td>1.400000</td>\n",
       "      <td>10.000000</td>\n",
       "      <td>5.000000</td>\n",
       "      <td>2022-01-22</td>\n",
       "    </tr>\n",
       "    <tr>\n",
       "      <th>1</th>\n",
       "      <td>Chelsea</td>\n",
       "      <td>Tottenham</td>\n",
       "      <td>The dynamic has changed before Chelsea and Tot...</td>\n",
       "      <td>Jacob Steinberg</td>\n",
       "      <td>Stamford Bridge</td>\n",
       "      <td>Paul Tierney</td>\n",
       "      <td>[13-18, 9-2, 13-4]</td>\n",
       "      <td>1.722222</td>\n",
       "      <td>5.500000</td>\n",
       "      <td>4.250000</td>\n",
       "      <td>2022-01-22</td>\n",
       "    </tr>\n",
       "    <tr>\n",
       "      <th>2</th>\n",
       "      <td>Crystal Palace</td>\n",
       "      <td>Liverpool</td>\n",
       "      <td>Liverpool have already dispelled most of the d...</td>\n",
       "      <td>Stephen Hollis</td>\n",
       "      <td>Selhurst Park</td>\n",
       "      <td>Kevin Friend</td>\n",
       "      <td>[5-1, 8-13, 10-3]</td>\n",
       "      <td>6.000000</td>\n",
       "      <td>1.615385</td>\n",
       "      <td>4.333333</td>\n",
       "      <td>2022-01-22</td>\n",
       "    </tr>\n",
       "    <tr>\n",
       "      <th>3</th>\n",
       "      <td>Leicester</td>\n",
       "      <td>Brighton</td>\n",
       "      <td>Brendan Rodgers blamed naivety for the extraor...</td>\n",
       "      <td>Paul Doyle</td>\n",
       "      <td>King Power Stadium</td>\n",
       "      <td>Martin Atkinson</td>\n",
       "      <td>[8-5, 9-2, 12-5]</td>\n",
       "      <td>2.600000</td>\n",
       "      <td>5.500000</td>\n",
       "      <td>3.400000</td>\n",
       "      <td>2022-01-22</td>\n",
       "    </tr>\n",
       "    <tr>\n",
       "      <th>4</th>\n",
       "      <td>Manchester United</td>\n",
       "      <td>West Ham</td>\n",
       "      <td>This is a genuine six-pointer in which Manches...</td>\n",
       "      <td>Jamie Jackson</td>\n",
       "      <td>Old Trafford</td>\n",
       "      <td>Jon Moss</td>\n",
       "      <td>[10-11, 3-1, 11-4]</td>\n",
       "      <td>1.909091</td>\n",
       "      <td>4.000000</td>\n",
       "      <td>3.750000</td>\n",
       "      <td>2022-01-21</td>\n",
       "    </tr>\n",
       "  </tbody>\n",
       "</table>\n",
       "</div>"
      ],
      "text/plain": [
       "           home_team  away_team  \\\n",
       "0            Arsenal    Burnley   \n",
       "1            Chelsea  Tottenham   \n",
       "2     Crystal Palace  Liverpool   \n",
       "3          Leicester   Brighton   \n",
       "4  Manchester United   West Ham   \n",
       "\n",
       "                                                text           author  \\\n",
       "0  Arsenal have no excuses if their dismal form i...   Graham Searles   \n",
       "1  The dynamic has changed before Chelsea and Tot...  Jacob Steinberg   \n",
       "2  Liverpool have already dispelled most of the d...   Stephen Hollis   \n",
       "3  Brendan Rodgers blamed naivety for the extraor...       Paul Doyle   \n",
       "4  This is a genuine six-pointer in which Manches...    Jamie Jackson   \n",
       "\n",
       "                venue          referee                odds  odds_home_team  \\\n",
       "0    Emirates Stadium      David Coote     [2-5, 9-1, 4-1]        1.400000   \n",
       "1     Stamford Bridge     Paul Tierney  [13-18, 9-2, 13-4]        1.722222   \n",
       "2       Selhurst Park     Kevin Friend   [5-1, 8-13, 10-3]        6.000000   \n",
       "3  King Power Stadium  Martin Atkinson    [8-5, 9-2, 12-5]        2.600000   \n",
       "4        Old Trafford         Jon Moss  [10-11, 3-1, 11-4]        1.909091   \n",
       "\n",
       "   odds_away_team  odds_draw preview_date  \n",
       "0       10.000000   5.000000   2022-01-22  \n",
       "1        5.500000   4.250000   2022-01-22  \n",
       "2        1.615385   4.333333   2022-01-22  \n",
       "3        5.500000   3.400000   2022-01-22  \n",
       "4        4.000000   3.750000   2022-01-21  "
      ]
     },
     "execution_count": null,
     "metadata": {},
     "output_type": "execute_result"
    }
   ],
   "source": [
    "data.head()"
   ]
  },
  {
   "cell_type": "code",
   "execution_count": null,
   "metadata": {},
   "outputs": [],
   "source": []
  }
 ],
 "metadata": {
  "kernelspec": {
   "display_name": "Python 3 (ipykernel)",
   "language": "python",
   "name": "python3"
  }
 },
 "nbformat": 4,
 "nbformat_minor": 2
}
