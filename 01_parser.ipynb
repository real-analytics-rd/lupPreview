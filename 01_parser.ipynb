{
 "cells": [
  {
   "cell_type": "code",
   "execution_count": null,
   "metadata": {},
   "outputs": [],
   "source": [
    "# default_exp parser"
   ]
  },
  {
   "cell_type": "markdown",
   "metadata": {},
   "source": [
    "### Import Libraries and Modules"
   ]
  },
  {
   "cell_type": "code",
   "execution_count": null,
   "metadata": {},
   "outputs": [],
   "source": [
    "# hide\n",
    "from nbdev.showdoc import *"
   ]
  },
  {
   "cell_type": "code",
   "execution_count": null,
   "metadata": {},
   "outputs": [],
   "source": [
    "# export\n",
    "import logging\n",
    "from time import sleep\n",
    "from typing import Tuple\n",
    "from requests_html import HTMLSession\n",
    "from bs4 import BeautifulSoup"
   ]
  },
  {
   "cell_type": "markdown",
   "metadata": {},
   "source": [
    "### Parser Class\n",
    "\n",
    "##### This class is used to parse pages and has 3 functions:\n",
    "\n",
    "1- <b> parse_page </b> function:retrieves the html format of a given web page link.\n",
    "\n",
    "2- <b> get_next_page </b> function: retrieves the link to the next page and determines if it is the last page of previews in order to stop scraping. \n"
   ]
  },
  {
   "cell_type": "code",
   "execution_count": null,
   "metadata": {},
   "outputs": [],
   "source": [
    "# export\n",
    "class Parser:\n",
    "    \"\"\"\n",
    "    A class to represent previews pages parser.\n",
    "\n",
    "    ...\n",
    "\n",
    "    Methods\n",
    "    -------\n",
    "    parse_page(page_url, session)\n",
    "        returns the html format of the page.\n",
    "    get_next_page(page)\n",
    "        returns the link of the following page and if it's the last page.\n",
    "    \"\"\"\n",
    "\n",
    "    @staticmethod\n",
    "    def parse_page(page_url: str, session: HTMLSession) -> BeautifulSoup:\n",
    "        \"\"\"\n",
    "            returns the html format of the page.\n",
    "\n",
    "        Parameters\n",
    "        ----------\n",
    "        page_url: str\n",
    "            the url of the page\n",
    "        session: requests_html.HTMLSession\n",
    "            the scraper session\n",
    "\n",
    "        Returns\n",
    "        -------\n",
    "        page: bs4.BeautifulSoup\n",
    "              the html format of the page\n",
    "\n",
    "        \"\"\"\n",
    "\n",
    "        try:\n",
    "            sleep(5)\n",
    "            # Request the url\n",
    "            request = session.get(page_url)\n",
    "            # Get the html document of the page\n",
    "            page = BeautifulSoup(request.text, \"html.parser\")\n",
    "            return page\n",
    "        except Exception as e:\n",
    "            logging.error(\"Cannot parse the given page\")\n",
    "\n",
    "    @staticmethod\n",
    "    def get_next_page(page: BeautifulSoup) -> Tuple[str, bool]:\n",
    "        \"\"\"\n",
    "            returns the link of the following page and if it's the last page.\n",
    "\n",
    "        Parameters\n",
    "        ----------\n",
    "        page : bs4.BeautifulSoup\n",
    "            the html format of the page\n",
    "\n",
    "        Returns\n",
    "        -------\n",
    "        url: str\n",
    "          the url of the next page\n",
    "        last_page: bool\n",
    "          True if it's the last page, False otherwise.\n",
    "\n",
    "        \"\"\"\n",
    "        # If we are at the last page , last_page = True else last_page = False\n",
    "        last_page = False\n",
    "        # Pick up the pagination HTML part\n",
    "        pagination_section = page.find(\"div\", {\"class\": \"pagination__list\"})\n",
    "        # If we don't find the \"next\" button (it's the last page)\n",
    "        # We are in the last page\n",
    "        if not page.find(\"a\", {\"rel\": \"next\"}):\n",
    "            # We pick up the number of the page and we return the link\n",
    "            html_location = dict({\"aria-label\": \"Current page\"})\n",
    "            page_number = page.find(\"span\", html_location).text\n",
    "            url = (\n",
    "                \"https://www.theguardian.com/football/series/match-previews?page=\"\n",
    "                + page_number\n",
    "            )\n",
    "            last_page = True\n",
    "            logging.info(\"The Guardian last page\")\n",
    "            return url, last_page\n",
    "        # If it's not the last page, we pick up the link of the following page\n",
    "        else:\n",
    "            url = page.find(\"a\", {\"rel\": \"next\"})[\"href\"]\n",
    "            return url, last_page"
   ]
  }
 ],
 "metadata": {
  "kernelspec": {
   "display_name": "Python 3 (ipykernel)",
   "language": "python",
   "name": "python3"
  }
 },
 "nbformat": 4,
 "nbformat_minor": 4
}
