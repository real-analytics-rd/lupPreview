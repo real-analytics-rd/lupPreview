{
 "cells": [
  {
   "cell_type": "markdown",
   "id": "c9a409e3",
   "metadata": {},
   "source": [
    "## Predicting Football Match Outcomes Using Machine Learning and Human Experts input"
   ]
  },
  {
   "cell_type": "markdown",
   "id": "615d35a5",
   "metadata": {},
   "source": [
    "<br>"
   ]
  },
  {
   "cell_type": "markdown",
   "id": "64a27f58",
   "metadata": {},
   "source": [
    "Most industries, including football, have embraced data analytics. However, in recent years, the availability of football match data has increased, allowing everyone involved in football to gain hidden knowledge and predict results."
   ]
  },
  {
   "cell_type": "markdown",
   "id": "3143827e",
   "metadata": {},
   "source": [
    "In our literature review, we will focus on models that predict football match outcomes based on different baselines.\n",
    "The models  under consideration are as follows :\n",
    "\n",
    "- Statistical predictions: <b>(Maher 1982), (Dixon and coles 1997) and (Baboota and Kaur 2018)</b>.\n",
    "- Bookmakers predictions: <b>(Beal, Norman, and Ramchurn 2019)</b>.\n",
    "- Predictions based on sentiment analysis in social media: <b>(Schumaker, Jarmoszko and Labedz 2016) and (Sinha et al. 2013)</b> .\n",
    "- Predictions based on human inputs: <b>(Ryan Beal, Stuart E. Middleton, Timothy J. Norman, Sarvapali D. Ramchurn 2020)</b>."
   ]
  },
  {
   "cell_type": "markdown",
   "id": "31513420",
   "metadata": {},
   "source": [
    "### Statistical methods"
   ]
  },
  {
   "cell_type": "markdown",
   "id": "9e23ea9d",
   "metadata": {},
   "source": [
    "Traditional AI and machine learning methods for predicting football match outcomes tend to rely on statistical machine learning based on historical data about individual teams.\n",
    "<br>Furthemore,the first generation of football-related models was primarily concerned with the distribution of the number of goals scored during a football game.\n",
    "<br><b>(Maher 1982)</b> included a general model that uses an independent poisson distribution to approximate a team's scoring frequency. However, this model assumes that each team's home, away, attack, and defense parameters are constant.\n",
    "<br> <b>Mark Dixon and Stuart Coles</b> claimed in their 1997 paper that <b>Maher's</b> model has certain limitations, such as low score results (0-0, 1-0, 0-1, and 1-1) being inherently unreported and each team's scoring and defending abilities being regarded as constant over time.\n",
    "<br>They proposed a new model with some specific enhancements. This model is a bivariate poisson distribution with parameters based on past performance for the number of goals scored by each team. This implies that recent matches have a greater impact on strength estimates.\n",
    "<br>In addition, <b>(Baboota and Kaur 2018)</b> investigates the application of machine learning techniques to football match outcomes and compares the results to bookmakers. They employ feature engineering and exploratory data analysis to identify the feature set that contains the most important factors for predicting match outcome. The authors put Gaussian naive Bayes, SVM, Random forest, and Gradient boosting to the test. They used training data from 2005 to 2014 in the EPL and discovered that the Gradient boosting method performed the best with an accuracy of 56.7 %"
   ]
  },
  {
   "cell_type": "markdown",
   "id": "3b9c443c",
   "metadata": {},
   "source": [
    "### Bookmakers predictions"
   ]
  },
  {
   "cell_type": "markdown",
   "id": "40e2ee34",
   "metadata": {},
   "source": [
    "Making bets on the outcome of football matches has a long history around the world, and typically entails selecting matches that are thought to be the most likely to end in a draw.\n",
    "Bookmakers provide odds on a match's various outcomes and the simplest version of this relies exclusively on the results which can be a win by either the team playing at home or the team playing away, or a draw. More complex bets on the score or the half-time and full-time results are also available.\n",
    "<br>Football match predictions is a very complex problem in which the outcome of the game is predicted based on the teams' previous performance and the relative abilities of the players in the teams. This implies that the team with the best players should win.\n",
    "<br>Bookmakers set their odds based on this challenge and employ sophisticated pricing models that assign \"odds\" to different outcomes in order to maximize their chances of profit.\n",
    "<br>According to <b>(Beal, Norman, and Ramchurn 2019)</b>, bookmakers' accuracy was around 67% for American football, 74% for basketball, 64% for cricket, 61% for baseball, and only 54% for football during the 2017/2018 season. This is due to the fact that the frequency of goals is far lower than the frequency of points scored in the other sports."
   ]
  },
  {
   "cell_type": "markdown",
   "id": "8d305b7a",
   "metadata": {},
   "source": [
    "### Sentiment analysis predictions"
   ]
  },
  {
   "cell_type": "markdown",
   "id": "ceb82cb7",
   "metadata": {},
   "source": [
    "Among the methods interested in football match predictions, we highlight sentimental analysis of social media platforms. These studies underscore the importance of hidden information contained in the sentiment of publications. However, these approaches focus on opinion aggregation rather than attempting to extract potential indicators for teams from human experts previews\n",
    "<br> True, fans tweets are unlikely to influence game outcomes, unless they are used to exceptionally motivate or demotivate a team. Fans use Twitter to express their personal feelings, primarily about the team they are following and their next opponent's strengths, weaknesses, and prospects, and this can sometimes help establish betting odds.\n",
    "<br>This method is used by <b>(Schumaker, Jarmoszko, and Labedz 2016)</b> to predict English Premier League matches by analyzing fans tweets during the final three months of the 2013–2014 from February 16 through May 11 2014. It achieved an accuracy of 50%,this system has only two possible outcomes: home team win or away team win. If the model's number of Home or Away tweets was zero, the match was not considered for that model. However, it was discovered that sentiment was unable to recognize a draw outcome, so this category was dropped.\n",
    "<br>And <b>(Sinha et al. 2013)</b> demonstrate the use of similar analysis for american football results,during the 2010–2012 seasons, with an accuracy of 56%."
   ]
  },
  {
   "cell_type": "markdown",
   "id": "64047e9e",
   "metadata": {},
   "source": [
    "### Predictions based on human inputs"
   ]
  },
  {
   "cell_type": "markdown",
   "id": "4e46dda7",
   "metadata": {},
   "source": [
    "To date, probabilistic methods have yielded limited results and appear to have reached a plateau in terms of accuracy because team performance is dependent not only on team abilities but also on a variety of dynamic factors such as team configurations, player health, match location, weather, team strategies, and other external factors.\n",
    "As a result predicting football match outcomes becomes a very complex computational problem.\n",
    "<br>To address these weaknesses, a new technique has emerged <b>(Beal,Middleton,Norman and Ramchurn 2020)</b> that incorporates human expertise and judgment, such as media information, rather than just basic performance statistics, which has helped improve prediction accuracy."
   ]
  },
  {
   "cell_type": "markdown",
   "id": "be4ba0df",
   "metadata": {},
   "source": [
    "These new baselines used a dataset of 6 seasons of English Premier League games from 2013/14 to 2018/19, including football match data, Guardian previews and predictions from bookmakers odds for 1770 games, employing both statistical machine learning techniques and <b>Natural Language Processing</b>.\n",
    "<br>When <b>NLP</b> methods, <b>statistical approaches</b>, and <b>bookmakers predictions</b> were compared to the ensemble learning approach which combines the first three techniques, the results revealed that these methods could be improved. It achieved an accuracy of 63.2 %, a 10.8 % increase over <b>the bookmakers'</b> accuracy(52.43%), 4.1 % more than <b>(Dixon and Coles 1997) (59.11%)</b> and a 13 % improvement over the sentiment analysis approach in <b>(Schumaker, Jarmoszko, and Labedz Jr 2016)</b>.\n",
    "<br>Experiments revealed that using the ensemble model increases the likelihood of predicting draws and longshot results. This is especially true when the text vectors model identifies more longshots (38.9 %) by taking into account human input, whereas the first three models are typically poor at predicting these events.\n",
    "<br> In addition, the final predictions are based on a Random forest classifier."
   ]
  },
  {
   "cell_type": "markdown",
   "id": "45766ba0",
   "metadata": {},
   "source": [
    " "
   ]
  },
  {
   "cell_type": "markdown",
   "id": "27368278",
   "metadata": {},
   "source": [
    "## Our contribution"
   ]
  },
  {
   "cell_type": "markdown",
   "id": "eca33c19",
   "metadata": {},
   "source": [
    "Our contribution to this project is to extend the methodology described in <b>(Beal,Middleton,Norman, and Ramchurn 2020)</b> and to build a multi-head, multi-task deep learning network <b>(Vafaeikia, Namdar, and Khalvati 2020)</b> capable of capturing the game environment as well as more standard time series tabular data.\n",
    "<br>The findings will be compared to traditional and machine learning approaches described in the literature, and the following question will be addressed: <br>Do football experts' human analyses influence the predictions of football matches?"
   ]
  }
 ],
 "metadata": {
  "kernelspec": {
   "display_name": "Python 3 (ipykernel)",
   "language": "python",
   "name": "python3"
  }
 },
 "nbformat": 4,
 "nbformat_minor": 5
}
