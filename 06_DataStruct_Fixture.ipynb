{
 "cells": [
  {
   "cell_type": "code",
   "execution_count": null,
   "id": "c87cd512",
   "metadata": {},
   "outputs": [],
   "source": [
    "# default_exp models.fixture"
   ]
  },
  {
   "cell_type": "code",
   "execution_count": null,
   "id": "3b091ab2",
   "metadata": {},
   "outputs": [],
   "source": [
    "# hide\n",
    "from nbdev.showdoc import *"
   ]
  },
  {
   "cell_type": "code",
   "execution_count": null,
   "id": "8a279f1e",
   "metadata": {},
   "outputs": [],
   "source": [
    "#export\n",
    "from mongoengine import DynamicDocument, IntField\n",
    "from theguardianscraper.config.localconfig import CONFIG"
   ]
  },
  {
   "cell_type": "markdown",
   "id": "0f858c37",
   "metadata": {},
   "source": [
    "### Fixture Class\n",
    "\n",
    "##### This class represents the premier league matchs in opta database\n",
    "\n",
    "We created a class that contains the various attributes to fetch in order to map every extracted preview from the Guardian website.\n",
    "<br>This class ensures that data is stored in a convenient format and type."
   ]
  },
  {
   "cell_type": "code",
   "execution_count": null,
   "id": "7f64a748",
   "metadata": {},
   "outputs": [],
   "source": [
    "# export\n",
    "class Fixture(DynamicDocument):\n",
    "    \"\"\"\n",
    "        A class to represent the opta fixtures.\n",
    "\n",
    "    ...\n",
    "\n",
    "    Attributes\n",
    "    ----------\n",
    "    gameId : int\n",
    "        the opta game id\n",
    "    CompetitionId : int\n",
    "        the competition id of the match\n",
    "        \n",
    "    \"\"\"          \n",
    "    gameId = IntField(db_field=\"gameId\")    \n",
    "    competitionId = IntField(db_field=\"competitionId\")\n",
    "    meta = {\n",
    "        \"db_alias\": \"opta\",\n",
    "        \"collection\": CONFIG[\"connections\"][\"opta\"][\"fixture\"],\n",
    "    }"
   ]
  }
 ],
 "metadata": {
  "kernelspec": {
   "display_name": "Python 3 (ipykernel)",
   "language": "python",
   "name": "python3"
  }
 },
 "nbformat": 4,
 "nbformat_minor": 5
}
