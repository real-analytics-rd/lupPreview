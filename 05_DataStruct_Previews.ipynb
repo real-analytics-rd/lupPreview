{
 "cells": [
  {
   "cell_type": "code",
   "execution_count": null,
   "id": "31064034",
   "metadata": {},
   "outputs": [],
   "source": [
    "# default_exp models.preview"
   ]
  },
  {
   "cell_type": "code",
   "execution_count": null,
   "id": "09f4528a",
   "metadata": {},
   "outputs": [],
   "source": [
    "# hide\n",
    "from nbdev.showdoc import *"
   ]
  },
  {
   "cell_type": "code",
   "execution_count": null,
   "id": "f447569d",
   "metadata": {},
   "outputs": [],
   "source": [
    "#export\n",
    "from mongoengine import Document\n",
    "from mongoengine import IntField\n",
    "from mongoengine import FloatField\n",
    "from mongoengine import StringField\n",
    "from mongoengine import DateTimeField\n",
    "from mongoengine import ListField"
   ]
  },
  {
   "cell_type": "markdown",
   "id": "b67859c3",
   "metadata": {},
   "source": [
    "### Previews Class\n",
    "\n",
    "##### This class represents the extracted previews from the guardian:\n",
    "\n",
    "We created a class that contains the various attributes to store in order to save every preview information extracted from the Guardian website.\n",
    "<br>This class ensures that data is stored in a convenient format and type."
   ]
  },
  {
   "cell_type": "code",
   "execution_count": null,
   "id": "d38604d2",
   "metadata": {},
   "outputs": [],
   "source": [
    "# export\n",
    "class Previews(Document):\n",
    "    \"\"\"\n",
    "        A class to represent the extracted previews from the guardian.\n",
    "\n",
    "    ...\n",
    "\n",
    "    Attributes\n",
    "    ----------\n",
    "    gameId : int\n",
    "        the opta game id\n",
    "    homeTeam : str\n",
    "        home team name\n",
    "    awayTeam : str\n",
    "        away_team name\n",
    "    text : str\n",
    "        preview text\n",
    "    author : str\n",
    "        preview author\n",
    "    venue : str\n",
    "        match venue\n",
    "    referee : str\n",
    "        match referee\n",
    "    odds : str\n",
    "        betting odds\n",
    "    oddsHomeTeam : float\n",
    "        decimal betting odds for home team\n",
    "    oddsAwayTeam : float\n",
    "        decimal betting odds for away team\n",
    "    oddsDraw : float\n",
    "        decimal betting odds for draw\n",
    "    gameDate : datetime\n",
    "        the date of the match\n",
    "    previewDate : datetime\n",
    "        the date of the preview\n",
    "    previewLink : str\n",
    "        the Guardian preview link\n",
    "\n",
    "    \"\"\"\n",
    "\n",
    "    gameId = IntField(primary_key=True,db_field=\"gameId\", required=True)\n",
    "    homeTeam = StringField(db_field=\"homeTeam\", required=True)\n",
    "    awayTeam = StringField(db_field=\"awayTeam\", required=True)\n",
    "    text = StringField(db_field=\"text\", required=False)\n",
    "    author = StringField(db_field=\"author\", required=False)\n",
    "    venue = StringField(db_field=\"venue\", required=False)\n",
    "    referee = StringField(db_field=\"referee\", required=False)\n",
    "    odds=ListField(StringField(),db_field=\"odds\",required=False)\n",
    "    oddsHomeTeam = FloatField(db_field=\"oddsHomeTeam\", required=False)\n",
    "    oddsAwayTeam = FloatField(db_field=\"oddsAwayTeam\", required=False)\n",
    "    oddsDraw = FloatField(db_field=\"oddsDraw\", required=False)\n",
    "    gameDate = DateTimeField(db_field=\"gameDate\", required=False)\n",
    "    previewDate = DateTimeField(db_field=\"previewDate\", required=False)\n",
    "    previewLink = StringField(db_field=\"previewLink\", required=True)"
   ]
  }
 ],
 "metadata": {
  "kernelspec": {
   "display_name": "Python 3 (ipykernel)",
   "language": "python",
   "name": "python3"
  }
 },
 "nbformat": 4,
 "nbformat_minor": 5
}
